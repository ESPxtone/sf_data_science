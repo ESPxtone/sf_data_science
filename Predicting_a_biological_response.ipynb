{
 "cells": [
  {
   "cell_type": "markdown",
   "metadata": {},
   "source": [
    "Необходимо предсказать биологический ответ молекул (столбец 'Activity') по их химическому составу (столбцы D1-D1776).\n",
    "\n",
    "Данные представлены в формате CSV.  Каждая строка представляет молекулу. \n",
    "\n",
    "Первый столбец Activity содержит экспериментальные данные, описывающие фактический биологический ответ [0, 1]; \n",
    "Остальные столбцы D1-D1776 представляют собой молекулярные дескрипторы — это вычисляемые свойства, которые могут фиксировать некоторые характеристики молекулы, например размер, форму или состав элементов.\n",
    "\n",
    "Предварительная обработка не требуется, данные уже закодированы и нормализованы.\n",
    "\n",
    "В качестве метрики будем использовать F1-score.\n",
    "\n",
    "Необходимо обучить две модели: логистическую регрессию и случайный лес. Далее нужно сделать подбор гиперпараметров с помощью базовых и продвинутых методов оптимизации. Важно использовать все четыре метода (GridSeachCV, RandomizedSearchCV, Hyperopt, Optuna) хотя бы по разу, максимальное количество итераций не должно превышать 50.\n"
   ]
  },
  {
   "cell_type": "code",
   "execution_count": 3,
   "metadata": {},
   "outputs": [],
   "source": [
    "import pandas as pd #для анализа и предобработки данных\n",
    "from sklearn import linear_model #линейные моделиё\n",
    "from sklearn import tree #деревья решений\n",
    "from sklearn import ensemble #ансамбли\n",
    "from sklearn import metrics #метрики\n",
    "from sklearn import preprocessing #предобработка\n",
    "from sklearn.model_selection import train_test_split #сплитование выборки\n",
    "import numpy as np"
   ]
  },
  {
   "cell_type": "code",
   "execution_count": 4,
   "metadata": {},
   "outputs": [
    {
     "data": {
      "text/html": [
       "<div>\n",
       "<style scoped>\n",
       "    .dataframe tbody tr th:only-of-type {\n",
       "        vertical-align: middle;\n",
       "    }\n",
       "\n",
       "    .dataframe tbody tr th {\n",
       "        vertical-align: top;\n",
       "    }\n",
       "\n",
       "    .dataframe thead th {\n",
       "        text-align: right;\n",
       "    }\n",
       "</style>\n",
       "<table border=\"1\" class=\"dataframe\">\n",
       "  <thead>\n",
       "    <tr style=\"text-align: right;\">\n",
       "      <th></th>\n",
       "      <th>Activity</th>\n",
       "      <th>D1</th>\n",
       "      <th>D2</th>\n",
       "      <th>D3</th>\n",
       "      <th>D4</th>\n",
       "      <th>D5</th>\n",
       "      <th>D6</th>\n",
       "      <th>D7</th>\n",
       "      <th>D8</th>\n",
       "      <th>D9</th>\n",
       "      <th>...</th>\n",
       "      <th>D1767</th>\n",
       "      <th>D1768</th>\n",
       "      <th>D1769</th>\n",
       "      <th>D1770</th>\n",
       "      <th>D1771</th>\n",
       "      <th>D1772</th>\n",
       "      <th>D1773</th>\n",
       "      <th>D1774</th>\n",
       "      <th>D1775</th>\n",
       "      <th>D1776</th>\n",
       "    </tr>\n",
       "  </thead>\n",
       "  <tbody>\n",
       "    <tr>\n",
       "      <th>0</th>\n",
       "      <td>1</td>\n",
       "      <td>0.000000</td>\n",
       "      <td>0.497009</td>\n",
       "      <td>0.10</td>\n",
       "      <td>0.0</td>\n",
       "      <td>0.132956</td>\n",
       "      <td>0.678031</td>\n",
       "      <td>0.273166</td>\n",
       "      <td>0.585445</td>\n",
       "      <td>0.743663</td>\n",
       "      <td>...</td>\n",
       "      <td>0</td>\n",
       "      <td>0</td>\n",
       "      <td>0</td>\n",
       "      <td>0</td>\n",
       "      <td>0</td>\n",
       "      <td>0</td>\n",
       "      <td>0</td>\n",
       "      <td>0</td>\n",
       "      <td>0</td>\n",
       "      <td>0</td>\n",
       "    </tr>\n",
       "    <tr>\n",
       "      <th>1</th>\n",
       "      <td>1</td>\n",
       "      <td>0.366667</td>\n",
       "      <td>0.606291</td>\n",
       "      <td>0.05</td>\n",
       "      <td>0.0</td>\n",
       "      <td>0.111209</td>\n",
       "      <td>0.803455</td>\n",
       "      <td>0.106105</td>\n",
       "      <td>0.411754</td>\n",
       "      <td>0.836582</td>\n",
       "      <td>...</td>\n",
       "      <td>1</td>\n",
       "      <td>1</td>\n",
       "      <td>1</td>\n",
       "      <td>1</td>\n",
       "      <td>0</td>\n",
       "      <td>1</td>\n",
       "      <td>0</td>\n",
       "      <td>0</td>\n",
       "      <td>1</td>\n",
       "      <td>0</td>\n",
       "    </tr>\n",
       "    <tr>\n",
       "      <th>2</th>\n",
       "      <td>1</td>\n",
       "      <td>0.033300</td>\n",
       "      <td>0.480124</td>\n",
       "      <td>0.00</td>\n",
       "      <td>0.0</td>\n",
       "      <td>0.209791</td>\n",
       "      <td>0.610350</td>\n",
       "      <td>0.356453</td>\n",
       "      <td>0.517720</td>\n",
       "      <td>0.679051</td>\n",
       "      <td>...</td>\n",
       "      <td>0</td>\n",
       "      <td>0</td>\n",
       "      <td>0</td>\n",
       "      <td>0</td>\n",
       "      <td>0</td>\n",
       "      <td>0</td>\n",
       "      <td>0</td>\n",
       "      <td>0</td>\n",
       "      <td>0</td>\n",
       "      <td>0</td>\n",
       "    </tr>\n",
       "  </tbody>\n",
       "</table>\n",
       "<p>3 rows × 1777 columns</p>\n",
       "</div>"
      ],
      "text/plain": [
       "   Activity        D1        D2    D3   D4        D5        D6        D7  \\\n",
       "0         1  0.000000  0.497009  0.10  0.0  0.132956  0.678031  0.273166   \n",
       "1         1  0.366667  0.606291  0.05  0.0  0.111209  0.803455  0.106105   \n",
       "2         1  0.033300  0.480124  0.00  0.0  0.209791  0.610350  0.356453   \n",
       "\n",
       "         D8        D9  ...  D1767  D1768  D1769  D1770  D1771  D1772  D1773  \\\n",
       "0  0.585445  0.743663  ...      0      0      0      0      0      0      0   \n",
       "1  0.411754  0.836582  ...      1      1      1      1      0      1      0   \n",
       "2  0.517720  0.679051  ...      0      0      0      0      0      0      0   \n",
       "\n",
       "   D1774  D1775  D1776  \n",
       "0      0      0      0  \n",
       "1      0      1      0  \n",
       "2      0      0      0  \n",
       "\n",
       "[3 rows x 1777 columns]"
      ]
     },
     "execution_count": 4,
     "metadata": {},
     "output_type": "execute_result"
    }
   ],
   "source": [
    "data = pd.read_csv('_train_sem09 (1).csv')\n",
    "data.head(3)"
   ]
  },
  {
   "cell_type": "code",
   "execution_count": 5,
   "metadata": {},
   "outputs": [],
   "source": [
    "#Создаем матрицу наблюдений X и вектор ответов y\n",
    "X = data.drop(['Activity'], axis=1)\n",
    "y = data['Activity']"
   ]
  },
  {
   "cell_type": "code",
   "execution_count": 6,
   "metadata": {},
   "outputs": [],
   "source": [
    "#Разделяем выборку на тренировочную и тестовую в соотношении 80/20. \n",
    "#Для сохранения соотношений целевого признака используем параметр stratify (стратифицированное разбиение). \n",
    "X_train, X_test, y_train, y_test = train_test_split(X, y, stratify=y, random_state = 1, test_size = 0.2)"
   ]
  },
  {
   "cell_type": "markdown",
   "metadata": {},
   "source": [
    "### <center> **ЛОГИСТИЧЕСКАЯ РЕГРЕССИЯ**"
   ]
  },
  {
   "cell_type": "code",
   "execution_count": 7,
   "metadata": {},
   "outputs": [
    {
     "name": "stdout",
     "output_type": "stream",
     "text": [
      "accuracy на тестовом наборе: 0.76\n",
      "f1_score на тестовом наборе: 0.79\n"
     ]
    },
    {
     "name": "stderr",
     "output_type": "stream",
     "text": [
      "c:\\Users\\User\\anaconda3\\lib\\site-packages\\sklearn\\linear_model\\_logistic.py:814: ConvergenceWarning: lbfgs failed to converge (status=1):\n",
      "STOP: TOTAL NO. of ITERATIONS REACHED LIMIT.\n",
      "\n",
      "Increase the number of iterations (max_iter) or scale the data as shown in:\n",
      "    https://scikit-learn.org/stable/modules/preprocessing.html\n",
      "Please also refer to the documentation for alternative solver options:\n",
      "    https://scikit-learn.org/stable/modules/linear_model.html#logistic-regression\n",
      "  n_iter_i = _check_optimize_result(\n"
     ]
    }
   ],
   "source": [
    "#Создаем объект класса логистическая регрессия\n",
    "log_reg = linear_model.LogisticRegression(max_iter = 50)\n",
    "#Обучаем модель\n",
    "log_reg.fit(X_train, y_train)\n",
    "print(\"accuracy на тестовом наборе: {:.2f}\".format(log_reg.score(X_test, y_test)))\n",
    "y_test_pred = log_reg.predict(X_test)\n",
    "print('f1_score на тестовом наборе: {:.2f}'.format(metrics.f1_score(y_test, y_test_pred)))"
   ]
  },
  {
   "cell_type": "markdown",
   "metadata": {},
   "source": [
    "### <center> **GridSearchCV**"
   ]
  },
  {
   "cell_type": "code",
   "execution_count": 8,
   "metadata": {},
   "outputs": [
    {
     "name": "stdout",
     "output_type": "stream",
     "text": [
      "Wall time: 1min 16s\n",
      "accuracy на тестовом наборе: 0.77\n",
      "f1_score на тестовом наборе: 0.79\n",
      "Наилучшие значения гиперпараметров: {'C': 0.1, 'penalty': 'l2', 'solver': 'lbfgs'}\n"
     ]
    },
    {
     "name": "stderr",
     "output_type": "stream",
     "text": [
      "c:\\Users\\User\\anaconda3\\lib\\site-packages\\sklearn\\linear_model\\_logistic.py:814: ConvergenceWarning: lbfgs failed to converge (status=1):\n",
      "STOP: TOTAL NO. of ITERATIONS REACHED LIMIT.\n",
      "\n",
      "Increase the number of iterations (max_iter) or scale the data as shown in:\n",
      "    https://scikit-learn.org/stable/modules/preprocessing.html\n",
      "Please also refer to the documentation for alternative solver options:\n",
      "    https://scikit-learn.org/stable/modules/linear_model.html#logistic-regression\n",
      "  n_iter_i = _check_optimize_result(\n"
     ]
    }
   ],
   "source": [
    "from sklearn.model_selection import GridSearchCV\n",
    "\n",
    "param_grid = [\n",
    "              {'penalty': ['l2', 'none'] , # тип регуляризации\n",
    "              'solver': ['lbfgs', 'sag'], # алгоритм оптимизации\n",
    "               'C': [0.01, 0.1, 0.3, 0.5, 0.7, 0.9, 1]}, # уровень силы регурялизации\n",
    "              \n",
    "              {'penalty': ['l1', 'l2'] ,\n",
    "              'solver': ['liblinear', 'saga'],\n",
    "               'C': [0.01, 0.1, 0.3, 0.5, 0.7, 0.9, 1]}\n",
    "]\n",
    "grid_search = GridSearchCV(\n",
    "    estimator=linear_model.LogisticRegression(random_state=1, max_iter=50), \n",
    "    param_grid=param_grid, \n",
    "    cv=5, \n",
    "    n_jobs = -1\n",
    ")  \n",
    "%time grid_search.fit(X_train, y_train) \n",
    "print(\"accuracy на тестовом наборе: {:.2f}\".format(grid_search.score(X_test, y_test)))\n",
    "y_test_pred = grid_search.predict(X_test)\n",
    "print('f1_score на тестовом наборе: {:.2f}'.format(metrics.f1_score(y_test, y_test_pred)))\n",
    "print(\"Наилучшие значения гиперпараметров: {}\".format(grid_search.best_params_))"
   ]
  },
  {
   "cell_type": "code",
   "execution_count": 9,
   "metadata": {},
   "outputs": [
    {
     "name": "stdout",
     "output_type": "stream",
     "text": [
      "Наилучшая модель:\n",
      "LogisticRegression(C=0.1, max_iter=50, random_state=1)\n",
      "Наилучшее значение точности при кросс-валидаци: 0.76\n"
     ]
    }
   ],
   "source": [
    "print(\"Наилучшая модель:\\n{}\".format(grid_search.best_estimator_))\n",
    "print(\"Наилучшее значение точности при кросс-валидаци: {:.2f}\".format(grid_search.best_score_))"
   ]
  },
  {
   "cell_type": "markdown",
   "metadata": {},
   "source": [
    "### <center> **RandomizedSearchCV**"
   ]
  },
  {
   "cell_type": "code",
   "execution_count": 10,
   "metadata": {},
   "outputs": [
    {
     "name": "stdout",
     "output_type": "stream",
     "text": [
      "Wall time: 22.9 s\n",
      "accuracy на тестовом наборе: 0.77\n",
      "f1_score на тестовом наборе: 0.79\n",
      "Наилучшие значения гиперпараметров: {'solver': 'saga', 'penalty': 'l1', 'C': 0.9}\n"
     ]
    },
    {
     "name": "stderr",
     "output_type": "stream",
     "text": [
      "c:\\Users\\User\\anaconda3\\lib\\site-packages\\sklearn\\linear_model\\_sag.py:352: ConvergenceWarning: The max_iter was reached which means the coef_ did not converge\n",
      "  warnings.warn(\n"
     ]
    }
   ],
   "source": [
    "from sklearn.model_selection import RandomizedSearchCV\n",
    "\n",
    "param_grid = [\n",
    "              {'penalty': ['l2', 'none'] , # тип регуляризации\n",
    "              'solver': ['lbfgs', 'sag'], # алгоритм оптимизации\n",
    "               'C': [0.01, 0.1, 0.3, 0.5, 0.7, 0.9, 1]}, # уровень силы регурялизации\n",
    "              \n",
    "              {'penalty': ['l1', 'l2'] ,\n",
    "              'solver': ['liblinear', 'saga'],\n",
    "               'C': [0.01, 0.1, 0.3, 0.5, 0.7, 0.9, 1]}\n",
    "]            \n",
    "random_search = RandomizedSearchCV(\n",
    "    estimator=linear_model.LogisticRegression(random_state=1, max_iter=50), \n",
    "    param_distributions=param_grid, \n",
    "    cv=5, \n",
    "    n_iter = 10, \n",
    "    n_jobs = -1\n",
    ")  \n",
    "%time random_search.fit(X_train, y_train) \n",
    "print(\"accuracy на тестовом наборе: {:.2f}\".format(random_search.score(X_test, y_test)))\n",
    "y_test_pred = random_search.predict(X_test)\n",
    "print('f1_score на тестовом наборе: {:.2f}'.format(metrics.f1_score(y_test, y_test_pred)))\n",
    "print(\"Наилучшие значения гиперпараметров: {}\".format(random_search.best_params_))\n"
   ]
  },
  {
   "cell_type": "markdown",
   "metadata": {},
   "source": [
    "### <center> СЛУЧАЙНЫЙ ЛЕС"
   ]
  },
  {
   "cell_type": "code",
   "execution_count": 11,
   "metadata": {},
   "outputs": [
    {
     "name": "stdout",
     "output_type": "stream",
     "text": [
      "Train: 1.00\n",
      "Test: 0.74\n"
     ]
    }
   ],
   "source": [
    "#Создаем объект класса дерево решений\n",
    "dt = tree.DecisionTreeClassifier(random_state=1)\n",
    "#Обучаем дерево \n",
    "dt.fit(X_train, y_train)\n",
    "#Выводим значения метрики \n",
    "y_train_pred = dt.predict(X_train)\n",
    "print('Train: {:.2f}'.format(metrics.f1_score(y_train, y_train_pred)))\n",
    "y_test_pred = dt.predict(X_test)\n",
    "print('Test: {:.2f}'.format(metrics.f1_score(y_test, y_test_pred)))"
   ]
  },
  {
   "cell_type": "markdown",
   "metadata": {},
   "source": [
    "### <center> Hyperopt"
   ]
  },
  {
   "cell_type": "code",
   "execution_count": 12,
   "metadata": {},
   "outputs": [],
   "source": [
    "from sklearn.model_selection import cross_val_score\n",
    "import hyperopt\n",
    "from hyperopt import hp, fmin, tpe, Trials"
   ]
  },
  {
   "cell_type": "code",
   "execution_count": 13,
   "metadata": {},
   "outputs": [],
   "source": [
    "# зададим пространство поиска гиперпараметров\n",
    "space={'n_estimators': hp.quniform('n_estimators', 100, 200, 1),\n",
    "       'max_depth' : hp.quniform('max_depth', 15, 30, 1),\n",
    "       'min_samples_leaf': hp.quniform('min_samples_leaf', 2, 10, 1)\n",
    "      }"
   ]
  },
  {
   "cell_type": "code",
   "execution_count": 14,
   "metadata": {},
   "outputs": [],
   "source": [
    "# зафксируем random_state\n",
    "random_state = 1\n",
    "def hyperopt_rf(params, cv=5, X=X_train, y=y_train, random_state=random_state):\n",
    "    # функция получает комбинацию гиперпараметров в \"params\"\n",
    "    params = {'n_estimators': int(params['n_estimators']), \n",
    "              'max_depth': int(params['max_depth']), \n",
    "             'min_samples_leaf': int(params['min_samples_leaf'])\n",
    "              }\n",
    "  \n",
    "    # используем эту комбинацию для построения модели\n",
    "    model = ensemble.RandomForestClassifier(**params, random_state=random_state)\n",
    "\n",
    "    # обучаем модель\n",
    "    model.fit(X, y)\n",
    "    #используем  кросс-валидацию\n",
    "    score = cross_val_score(model, X, y, cv=cv, scoring=\"f1\", n_jobs=-1).mean()\n",
    "\n",
    "    return -score"
   ]
  },
  {
   "cell_type": "code",
   "execution_count": 15,
   "metadata": {},
   "outputs": [
    {
     "name": "stdout",
     "output_type": "stream",
     "text": [
      "100%|██████████| 50/50 [03:55<00:00,  4.72s/trial, best loss: -0.8142259334504433]\n",
      "Наилучшие значения гиперпараметров {'max_depth': 24.0, 'min_samples_leaf': 2.0, 'n_estimators': 143.0}\n"
     ]
    }
   ],
   "source": [
    "# начинаем подбор гиперпараметров\n",
    "trials = Trials() # используется для логирования результатов\n",
    "\n",
    "best=fmin(hyperopt_rf, # наша функция \n",
    "          space=space, # пространство гиперпараметров\n",
    "          algo=tpe.suggest, # алгоритм оптимизации, установлен по умолчанию, задавать необязательно\n",
    "          max_evals=50, # максимальное количество итераций\n",
    "          trials=trials, # логирование результатов\n",
    "          rstate=np.random.default_rng(random_state)\n",
    "        )\n",
    "print(\"Наилучшие значения гиперпараметров {}\".format(best))"
   ]
  },
  {
   "cell_type": "code",
   "execution_count": 16,
   "metadata": {},
   "outputs": [
    {
     "name": "stdout",
     "output_type": "stream",
     "text": [
      "f1_score на обучающем наборе: 0.99\n",
      "accuracy на тестовом наборе: 0.81\n",
      "f1_score на тестовом наборе: 0.82\n"
     ]
    }
   ],
   "source": [
    "# рассчитаем точность для тестовой выборки\n",
    "model = ensemble.RandomForestClassifier(\n",
    "    random_state=random_state, \n",
    "    n_estimators=int(best['n_estimators']),\n",
    "    max_depth=int(best['max_depth']),\n",
    "    min_samples_leaf=int(best['min_samples_leaf'])\n",
    ")\n",
    "model.fit(X_train, y_train)\n",
    "y_train_pred = model.predict(X_train)\n",
    "print('f1_score на обучающем наборе: {:.2f}'.format(metrics.f1_score(y_train, y_train_pred)))\n",
    "print(\"accuracy на тестовом наборе: {:.2f}\".format(model.score(X_test, y_test)))\n",
    "y_test_pred = model.predict(X_test)\n",
    "print('f1_score на тестовом наборе: {:.2f}'.format(metrics.f1_score(y_test, y_test_pred)))\n"
   ]
  },
  {
   "cell_type": "markdown",
   "metadata": {},
   "source": [
    "## <center> Optuna"
   ]
  },
  {
   "cell_type": "code",
   "execution_count": 17,
   "metadata": {},
   "outputs": [],
   "source": [
    "import optuna"
   ]
  },
  {
   "cell_type": "code",
   "execution_count": 18,
   "metadata": {},
   "outputs": [],
   "source": [
    "random_state = 1\n",
    "def optuna_rf(trial):\n",
    "  # задаем пространства поиска гиперпараметров\n",
    "  n_estimators = trial.suggest_int('n_estimators', 100, 200, 1)\n",
    "  max_depth = trial.suggest_int('max_depth', 10, 30, 1)\n",
    "  min_samples_leaf = trial.suggest_int('min_samples_leaf', 2, 10, 1)\n",
    "\n",
    "  # создаем модель\n",
    "  model = ensemble.RandomForestClassifier(n_estimators=n_estimators,\n",
    "                                          max_depth=max_depth,\n",
    "                                          min_samples_leaf=min_samples_leaf,\n",
    "                                          random_state=random_state)\n",
    "  # обучаем модель\n",
    "  model.fit(X_train, y_train)\n",
    "  score = metrics.f1_score(y_train, model.predict(X_train))\n",
    "\n",
    "  return score"
   ]
  },
  {
   "cell_type": "code",
   "execution_count": 19,
   "metadata": {},
   "outputs": [
    {
     "name": "stderr",
     "output_type": "stream",
     "text": [
      "\u001b[32m[I 2022-07-15 20:02:22,759]\u001b[0m A new study created in memory with name: RandomForestClassifier\u001b[0m\n",
      "\u001b[32m[I 2022-07-15 20:02:24,415]\u001b[0m Trial 0 finished with value: 0.9349220898258478 and parameters: {'n_estimators': 117, 'max_depth': 22, 'min_samples_leaf': 6}. Best is trial 0 with value: 0.9349220898258478.\u001b[0m\n",
      "\u001b[32m[I 2022-07-15 20:02:26,926]\u001b[0m Trial 1 finished with value: 0.9566809029896278 and parameters: {'n_estimators': 165, 'max_depth': 25, 'min_samples_leaf': 4}. Best is trial 1 with value: 0.9566809029896278.\u001b[0m\n",
      "\u001b[32m[I 2022-07-15 20:02:28,473]\u001b[0m Trial 2 finished with value: 0.8852157943067033 and parameters: {'n_estimators': 142, 'max_depth': 10, 'min_samples_leaf': 9}. Best is trial 1 with value: 0.9566809029896278.\u001b[0m\n",
      "\u001b[32m[I 2022-07-15 20:02:29,821]\u001b[0m Trial 3 finished with value: 0.9062022609227008 and parameters: {'n_estimators': 102, 'max_depth': 26, 'min_samples_leaf': 9}. Best is trial 1 with value: 0.9566809029896278.\u001b[0m\n",
      "\u001b[32m[I 2022-07-15 20:02:31,932]\u001b[0m Trial 4 finished with value: 0.9013480392156863 and parameters: {'n_estimators': 176, 'max_depth': 20, 'min_samples_leaf': 10}. Best is trial 1 with value: 0.9566809029896278.\u001b[0m\n",
      "\u001b[32m[I 2022-07-15 20:02:34,606]\u001b[0m Trial 5 finished with value: 0.9412844036697248 and parameters: {'n_estimators': 188, 'max_depth': 24, 'min_samples_leaf': 5}. Best is trial 1 with value: 0.9566809029896278.\u001b[0m\n",
      "\u001b[32m[I 2022-07-15 20:02:37,053]\u001b[0m Trial 6 finished with value: 0.9440538061754814 and parameters: {'n_estimators': 171, 'max_depth': 23, 'min_samples_leaf': 5}. Best is trial 1 with value: 0.9566809029896278.\u001b[0m\n",
      "\u001b[32m[I 2022-07-15 20:02:38,290]\u001b[0m Trial 7 finished with value: 0.8909313725490197 and parameters: {'n_estimators': 107, 'max_depth': 12, 'min_samples_leaf': 10}. Best is trial 1 with value: 0.9566809029896278.\u001b[0m\n",
      "\u001b[32m[I 2022-07-15 20:02:40,555]\u001b[0m Trial 8 finished with value: 0.9575313168347083 and parameters: {'n_estimators': 154, 'max_depth': 29, 'min_samples_leaf': 4}. Best is trial 8 with value: 0.9575313168347083.\u001b[0m\n",
      "\u001b[32m[I 2022-07-15 20:02:42,304]\u001b[0m Trial 9 finished with value: 0.9322757779133618 and parameters: {'n_estimators': 127, 'max_depth': 28, 'min_samples_leaf': 6}. Best is trial 8 with value: 0.9575313168347083.\u001b[0m\n",
      "\u001b[32m[I 2022-07-15 20:02:44,692]\u001b[0m Trial 10 finished with value: 0.9917254060680356 and parameters: {'n_estimators': 145, 'max_depth': 30, 'min_samples_leaf': 2}. Best is trial 10 with value: 0.9917254060680356.\u001b[0m\n",
      "\u001b[32m[I 2022-07-15 20:02:47,287]\u001b[0m Trial 11 finished with value: 0.9920343137254902 and parameters: {'n_estimators': 152, 'max_depth': 30, 'min_samples_leaf': 2}. Best is trial 11 with value: 0.9920343137254902.\u001b[0m\n",
      "\u001b[32m[I 2022-07-15 20:02:49,701]\u001b[0m Trial 12 finished with value: 0.9920294297976702 and parameters: {'n_estimators': 142, 'max_depth': 30, 'min_samples_leaf': 2}. Best is trial 11 with value: 0.9920343137254902.\u001b[0m\n",
      "\u001b[32m[I 2022-07-15 20:02:51,875]\u001b[0m Trial 13 finished with value: 0.987434875881091 and parameters: {'n_estimators': 136, 'max_depth': 17, 'min_samples_leaf': 2}. Best is trial 11 with value: 0.9920343137254902.\u001b[0m\n",
      "\u001b[32m[I 2022-07-15 20:02:54,419]\u001b[0m Trial 14 finished with value: 0.9734188817598532 and parameters: {'n_estimators': 158, 'max_depth': 17, 'min_samples_leaf': 3}. Best is trial 11 with value: 0.9920343137254902.\u001b[0m\n",
      "\u001b[32m[I 2022-07-15 20:02:56,814]\u001b[0m Trial 15 finished with value: 0.9920343137254902 and parameters: {'n_estimators': 130, 'max_depth': 27, 'min_samples_leaf': 2}. Best is trial 11 with value: 0.9920343137254902.\u001b[0m\n",
      "\u001b[32m[I 2022-07-15 20:02:58,907]\u001b[0m Trial 16 finished with value: 0.9771271729185728 and parameters: {'n_estimators': 125, 'max_depth': 27, 'min_samples_leaf': 3}. Best is trial 11 with value: 0.9920343137254902.\u001b[0m\n",
      "\u001b[32m[I 2022-07-15 20:03:01,396]\u001b[0m Trial 17 finished with value: 0.9169719169719169 and parameters: {'n_estimators': 187, 'max_depth': 21, 'min_samples_leaf': 8}. Best is trial 11 with value: 0.9920343137254902.\u001b[0m\n",
      "\u001b[32m[I 2022-07-15 20:03:04,546]\u001b[0m Trial 18 finished with value: 0.9721456994184268 and parameters: {'n_estimators': 198, 'max_depth': 18, 'min_samples_leaf': 3}. Best is trial 11 with value: 0.9920343137254902.\u001b[0m\n",
      "\u001b[32m[I 2022-07-15 20:03:06,384]\u001b[0m Trial 19 finished with value: 0.9236874236874236 and parameters: {'n_estimators': 129, 'max_depth': 26, 'min_samples_leaf': 7}. Best is trial 11 with value: 0.9920343137254902.\u001b[0m\n",
      "\u001b[32m[I 2022-07-15 20:03:08,380]\u001b[0m Trial 20 finished with value: 0.9563358778625953 and parameters: {'n_estimators': 114, 'max_depth': 27, 'min_samples_leaf': 4}. Best is trial 11 with value: 0.9920343137254902.\u001b[0m\n",
      "\u001b[32m[I 2022-07-15 20:03:10,816]\u001b[0m Trial 21 finished with value: 0.9917203311867526 and parameters: {'n_estimators': 138, 'max_depth': 30, 'min_samples_leaf': 2}. Best is trial 11 with value: 0.9920343137254902.\u001b[0m\n",
      "\u001b[32m[I 2022-07-15 20:03:13,327]\u001b[0m Trial 22 finished with value: 0.9917254060680356 and parameters: {'n_estimators': 148, 'max_depth': 30, 'min_samples_leaf': 2}. Best is trial 11 with value: 0.9920343137254902.\u001b[0m\n",
      "\u001b[32m[I 2022-07-15 20:03:15,833]\u001b[0m Trial 23 finished with value: 0.9764885496183208 and parameters: {'n_estimators': 159, 'max_depth': 28, 'min_samples_leaf': 3}. Best is trial 11 with value: 0.9920343137254902.\u001b[0m\n",
      "\u001b[32m[I 2022-07-15 20:03:18,075]\u001b[0m Trial 24 finished with value: 0.9914163090128756 and parameters: {'n_estimators': 135, 'max_depth': 28, 'min_samples_leaf': 2}. Best is trial 11 with value: 0.9920343137254902.\u001b[0m\n",
      "\u001b[32m[I 2022-07-15 20:03:20,399]\u001b[0m Trial 25 finished with value: 0.9759072888075633 and parameters: {'n_estimators': 149, 'max_depth': 25, 'min_samples_leaf': 3}. Best is trial 11 with value: 0.9920343137254902.\u001b[0m\n",
      "\u001b[32m[I 2022-07-15 20:03:22,225]\u001b[0m Trial 26 finished with value: 0.9432234432234432 and parameters: {'n_estimators': 125, 'max_depth': 30, 'min_samples_leaf': 5}. Best is trial 11 with value: 0.9920343137254902.\u001b[0m\n",
      "\u001b[32m[I 2022-07-15 20:03:23,962]\u001b[0m Trial 27 finished with value: 0.9560171044593768 and parameters: {'n_estimators': 116, 'max_depth': 27, 'min_samples_leaf': 4}. Best is trial 11 with value: 0.9920343137254902.\u001b[0m\n",
      "\u001b[32m[I 2022-07-15 20:03:26,451]\u001b[0m Trial 28 finished with value: 0.972196761380996 and parameters: {'n_estimators': 167, 'max_depth': 14, 'min_samples_leaf': 2}. Best is trial 11 with value: 0.9920343137254902.\u001b[0m\n",
      "\u001b[32m[I 2022-07-15 20:03:28,181]\u001b[0m Trial 29 finished with value: 0.9225137278828553 and parameters: {'n_estimators': 132, 'max_depth': 22, 'min_samples_leaf': 7}. Best is trial 11 with value: 0.9920343137254902.\u001b[0m\n",
      "\u001b[32m[I 2022-07-15 20:03:30,381]\u001b[0m Trial 30 finished with value: 0.9758925846811108 and parameters: {'n_estimators': 142, 'max_depth': 24, 'min_samples_leaf': 3}. Best is trial 11 with value: 0.9920343137254902.\u001b[0m\n",
      "\u001b[32m[I 2022-07-15 20:03:32,919]\u001b[0m Trial 31 finished with value: 0.9917254060680356 and parameters: {'n_estimators': 151, 'max_depth': 29, 'min_samples_leaf': 2}. Best is trial 11 with value: 0.9920343137254902.\u001b[0m\n",
      "\u001b[32m[I 2022-07-15 20:03:35,815]\u001b[0m Trial 32 finished with value: 0.992651561543172 and parameters: {'n_estimators': 160, 'max_depth': 30, 'min_samples_leaf': 2}. Best is trial 32 with value: 0.992651561543172.\u001b[0m\n",
      "\u001b[32m[I 2022-07-15 20:03:38,539]\u001b[0m Trial 33 finished with value: 0.9758925846811108 and parameters: {'n_estimators': 161, 'max_depth': 29, 'min_samples_leaf': 3}. Best is trial 32 with value: 0.992651561543172.\u001b[0m\n",
      "\u001b[32m[I 2022-07-15 20:03:41,314]\u001b[0m Trial 34 finished with value: 0.9563358778625953 and parameters: {'n_estimators': 175, 'max_depth': 26, 'min_samples_leaf': 4}. Best is trial 32 with value: 0.992651561543172.\u001b[0m\n",
      "\u001b[32m[I 2022-07-15 20:03:44,238]\u001b[0m Trial 35 finished with value: 0.9932556713672593 and parameters: {'n_estimators': 164, 'max_depth': 28, 'min_samples_leaf': 2}. Best is trial 35 with value: 0.9932556713672593.\u001b[0m\n",
      "\u001b[32m[I 2022-07-15 20:03:46,935]\u001b[0m Trial 36 finished with value: 0.9755799755799756 and parameters: {'n_estimators': 166, 'max_depth': 27, 'min_samples_leaf': 3}. Best is trial 35 with value: 0.9932556713672593.\u001b[0m\n",
      "\u001b[32m[I 2022-07-15 20:03:49,730]\u001b[0m Trial 37 finished with value: 0.9560171044593768 and parameters: {'n_estimators': 179, 'max_depth': 25, 'min_samples_leaf': 4}. Best is trial 35 with value: 0.9932556713672593.\u001b[0m\n",
      "\u001b[32m[I 2022-07-15 20:03:52,742]\u001b[0m Trial 38 finished with value: 0.9932556713672593 and parameters: {'n_estimators': 181, 'max_depth': 28, 'min_samples_leaf': 2}. Best is trial 35 with value: 0.9932556713672593.\u001b[0m\n",
      "\u001b[32m[I 2022-07-15 20:03:55,310]\u001b[0m Trial 39 finished with value: 0.9418604651162791 and parameters: {'n_estimators': 183, 'max_depth': 23, 'min_samples_leaf': 5}. Best is trial 35 with value: 0.9932556713672593.\u001b[0m\n",
      "\u001b[32m[I 2022-07-15 20:03:57,943]\u001b[0m Trial 40 finished with value: 0.9332113449222323 and parameters: {'n_estimators': 197, 'max_depth': 25, 'min_samples_leaf': 6}. Best is trial 35 with value: 0.9932556713672593.\u001b[0m\n",
      "\u001b[32m[I 2022-07-15 20:04:00,756]\u001b[0m Trial 41 finished with value: 0.992951271835734 and parameters: {'n_estimators': 172, 'max_depth': 28, 'min_samples_leaf': 2}. Best is trial 35 with value: 0.9932556713672593.\u001b[0m\n",
      "\u001b[32m[I 2022-07-15 20:04:03,633]\u001b[0m Trial 42 finished with value: 0.992951271835734 and parameters: {'n_estimators': 172, 'max_depth': 28, 'min_samples_leaf': 2}. Best is trial 35 with value: 0.9932556713672593.\u001b[0m\n",
      "\u001b[32m[I 2022-07-15 20:04:06,262]\u001b[0m Trial 43 finished with value: 0.9764885496183208 and parameters: {'n_estimators': 171, 'max_depth': 28, 'min_samples_leaf': 3}. Best is trial 35 with value: 0.9932556713672593.\u001b[0m\n",
      "\u001b[32m[I 2022-07-15 20:04:09,090]\u001b[0m Trial 44 finished with value: 0.9923336399877338 and parameters: {'n_estimators': 172, 'max_depth': 29, 'min_samples_leaf': 2}. Best is trial 35 with value: 0.9932556713672593.\u001b[0m\n",
      "\u001b[32m[I 2022-07-15 20:04:12,268]\u001b[0m Trial 45 finished with value: 0.9926425505824649 and parameters: {'n_estimators': 192, 'max_depth': 28, 'min_samples_leaf': 2}. Best is trial 35 with value: 0.9932556713672593.\u001b[0m\n",
      "\u001b[32m[I 2022-07-15 20:04:15,055]\u001b[0m Trial 46 finished with value: 0.9761904761904762 and parameters: {'n_estimators': 179, 'max_depth': 26, 'min_samples_leaf': 3}. Best is trial 35 with value: 0.9932556713672593.\u001b[0m\n",
      "\u001b[32m[I 2022-07-15 20:04:17,065]\u001b[0m Trial 47 finished with value: 0.9332516840171464 and parameters: {'n_estimators': 163, 'max_depth': 10, 'min_samples_leaf': 2}. Best is trial 35 with value: 0.9932556713672593.\u001b[0m\n",
      "\u001b[32m[I 2022-07-15 20:04:19,143]\u001b[0m Trial 48 finished with value: 0.9070904645476773 and parameters: {'n_estimators': 169, 'max_depth': 24, 'min_samples_leaf': 9}. Best is trial 35 with value: 0.9932556713672593.\u001b[0m\n",
      "\u001b[32m[I 2022-07-15 20:04:21,843]\u001b[0m Trial 49 finished with value: 0.9575831553249924 and parameters: {'n_estimators': 183, 'max_depth': 29, 'min_samples_leaf': 4}. Best is trial 35 with value: 0.9932556713672593.\u001b[0m\n"
     ]
    },
    {
     "name": "stdout",
     "output_type": "stream",
     "text": [
      "Wall time: 1min 59s\n"
     ]
    }
   ],
   "source": [
    "%%time\n",
    "# cоздаем объект исследования\n",
    "# можем напрямую указать, что нам необходимо максимизировать метрику direction=\"maximize\"\n",
    "study = optuna.create_study(study_name=\"RandomForestClassifier\", direction=\"maximize\")\n",
    "# ищем лучшую комбинацию гиперпараметров n_trials раз\n",
    "study.optimize(optuna_rf, n_trials=50)"
   ]
  },
  {
   "cell_type": "code",
   "execution_count": 20,
   "metadata": {},
   "outputs": [
    {
     "name": "stdout",
     "output_type": "stream",
     "text": [
      "Наилучшие значения гиперпараметров {'n_estimators': 164, 'max_depth': 28, 'min_samples_leaf': 2}\n"
     ]
    }
   ],
   "source": [
    "print(\"Наилучшие значения гиперпараметров {}\".format(study.best_params))"
   ]
  },
  {
   "cell_type": "code",
   "execution_count": 21,
   "metadata": {},
   "outputs": [
    {
     "name": "stdout",
     "output_type": "stream",
     "text": [
      "accuracy на тестовом наборе: 0.80\n",
      "f1_score на тестовом наборе: 0.82\n"
     ]
    }
   ],
   "source": [
    "#рассчитаем точность для тестовой выборки\n",
    "model = ensemble.RandomForestClassifier(**study.best_params,random_state=random_state, )\n",
    "model.fit(X_train, y_train)\n",
    "y_train_pred = model.predict(X_train)\n",
    "print(\"accuracy на тестовом наборе: {:.2f}\".format(model.score(X_test, y_test)))\n",
    "y_test_pred = model.predict(X_test)\n",
    "print('f1_score на тестовом наборе: {:.2f}'.format(metrics.f1_score(y_test, y_test_pred)))"
   ]
  },
  {
   "cell_type": "markdown",
   "metadata": {},
   "source": [
    "РЕЗУЛЬТАТЫ:\n",
    "В логистической регрессии метрика не изменилась после подбора параметров. В случайном лесе метрику удалось улучшить с 0.74 до 0.82 и 0.83 библеотеками Hyperopt и Optuna соотевственно. "
   ]
  }
 ],
 "metadata": {
  "kernelspec": {
   "display_name": "Python 3.8.8 ('base')",
   "language": "python",
   "name": "python3"
  },
  "language_info": {
   "codemirror_mode": {
    "name": "ipython",
    "version": 3
   },
   "file_extension": ".py",
   "mimetype": "text/x-python",
   "name": "python",
   "nbconvert_exporter": "python",
   "pygments_lexer": "ipython3",
   "version": "3.8.8"
  },
  "orig_nbformat": 4,
  "vscode": {
   "interpreter": {
    "hash": "f08154012ddadd8e950e6e9e035c7a7b32c136e7647e9b7c77e02eb723a8bedb"
   }
  }
 },
 "nbformat": 4,
 "nbformat_minor": 2
}
